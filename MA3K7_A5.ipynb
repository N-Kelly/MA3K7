{
 "cells": [
  {
   "cell_type": "code",
   "execution_count": 1,
   "id": "9be21ff4",
   "metadata": {},
   "outputs": [],
   "source": [
    "import numpy as np\n",
    "import matplotlib.pyplot as plt"
   ]
  },
  {
   "cell_type": "code",
   "execution_count": 2,
   "id": "715fb18c",
   "metadata": {},
   "outputs": [],
   "source": [
    "# Function creating the spiral\n",
    "def spiral(max_num):\n",
    "    '''Input: the number of points in the spiral to iterate through.\n",
    "    Output: Returns the coordinats of all the points in the spiral, the coordinates of the corner numbers,\n",
    "    and the spiral corner numbers'''\n",
    "    pos = complex(0,0)\n",
    "    movement = complex(1,0)\n",
    "    turn = complex(0,1)\n",
    "    side = 0\n",
    "    x_coords = []\n",
    "    y_coords = []\n",
    "    corner_coords = []\n",
    "    spiral_num = 1\n",
    "    corner_nums = []\n",
    "        \n",
    "    count = max_num\n",
    "    while count > 0:\n",
    "        corner_coords.append([pos.real,pos.imag]) # finding the positions of the corners\n",
    "        corner_nums.append(spiral_num) # finding the corner numbers\n",
    "        if movement.imag == 0:\n",
    "            side +=1\n",
    "        k = min(count, side)\n",
    "        count -= k\n",
    "        while k>0:\n",
    "            x_coords.append(pos.real)\n",
    "            y_coords.append(pos.imag)\n",
    "            pos += movement\n",
    "            spiral_num +=1\n",
    "            k = k-1\n",
    "        movement = movement * turn\n",
    "    return x_coords, y_coords, corner_coords, corner_nums"
   ]
  },
  {
   "cell_type": "code",
   "execution_count": 3,
   "id": "ebd4af24",
   "metadata": {
    "scrolled": false
   },
   "outputs": [
    {
     "data": {
      "image/png": "[encoded data removed]",
      "text/plain": [
       "<Figure size 720x720 with 1 Axes>"
      ]
     },
     "metadata": {
      "needs_background": "light"
     },
     "output_type": "display_data"
    }
   ],
   "source": [
    "# Plotting the spiral\n",
    "x, y,_,_ = spiral(100)\n",
    "plt.figure(figsize=(10,10))\n",
    "plt.plot(x,y, linewidth=4)\n",
    "plt.axhline(0, color='r', linewidth=1)\n",
    "plt.axvline(0, color='r', linewidth=.5)\n",
    "plt.grid()\n",
    "plt.xticks(np.arange(min(x), max(x)+1))\n",
    "plt.yticks(np.arange(min(y), max(y)+1))\n",
    "plt.xlabel('x', size=16)\n",
    "plt.ylabel('y', size=16)\n",
    "plt.title('Spiral', size=18)\n",
    "plt.show()"
   ]
  },
  {
   "cell_type": "code",
   "execution_count": 4,
   "id": "2997382d",
   "metadata": {},
   "outputs": [],
   "source": [
    "# function calculating n(x)\n",
    "def n(x):\n",
    "    if x == 0:\n",
    "        return 1\n",
    "    if x < 0:\n",
    "        return 4*(x**2) - x +1\n",
    "    if x > 0:\n",
    "        return 4*(x**2) -3*x +1\n",
    "# Writing function that uses my formula to calculate the corner numbers of a certain x value\n",
    "def corner_formula(x):\n",
    "    if x == 0:\n",
    "        return 1\n",
    "    if x > 0:\n",
    "        return n(x)+x, n(x)-x+1\n",
    "    if x < 0:\n",
    "        return n(x)+x, n(x)-x\n"
   ]
  },
  {
   "cell_type": "code",
   "execution_count": 5,
   "id": "cbc0b80f",
   "metadata": {},
   "outputs": [
    {
     "name": "stdout",
     "output_type": "stream",
     "text": [
      "My formula is correct\n"
     ]
    }
   ],
   "source": [
    "### Now checking my formula with the Python method\n",
    "\n",
    "_,_,corners, corner_numbers = spiral(1000) #generating 1000 numberes in the spiral\n",
    "\n",
    "\n",
    "#finding x coordinates of corners to use in my formula\n",
    "corner_xcoords = []\n",
    "for c in corners:\n",
    "    corner_xcoords.append(c[0])\n",
    "\n",
    "# finding the corner numbers calculated by my formula\n",
    "my_corner_numbers = []\n",
    "for k in np.arange(min(corner_xcoords), max(corner_xcoords)+1):\n",
    "    if k==0:\n",
    "        my_corner_numbers.append(int(corner_formula(k)))\n",
    "    else:\n",
    "        my_corner_numbers.append(int(corner_formula(k)[0]))\n",
    "        my_corner_numbers.append(int(corner_formula(k)[1]))\n",
    "my_corner_numbers.sort()\n",
    "\n",
    "# checking if my formula is correct\n",
    "if corner_numbers == my_corner_numbers:\n",
    "    print('My formula is correct')\n",
    "else:\n",
    "    print('We have a problem')"
   ]
  },
  {
   "cell_type": "code",
   "execution_count": null,
   "id": "3eaa7259",
   "metadata": {},
   "outputs": [],
   "source": []
  }
 ],
 "metadata": {
  "kernelspec": {
   "display_name": "Python 3 (ipykernel)",
   "language": "python",
   "name": "python3"
  },
  "language_info": {
   "codemirror_mode": {
    "name": "ipython",
    "version": 3
   },
   "file_extension": ".py",
   "mimetype": "text/x-python",
   "name": "python",
   "nbconvert_exporter": "python",
   "pygments_lexer": "ipython3",
   "version": "3.9.7"
  }
 },
 "nbformat": 4,
 "nbformat_minor": 5
}
