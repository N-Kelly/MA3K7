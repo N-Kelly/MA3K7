{
 "cells": [
  {
   "cell_type": "code",
   "execution_count": 1,
   "id": "3e4d60bd",
   "metadata": {},
   "outputs": [],
   "source": [
    "### Cell 1\n",
    "# Importing packages needed\n",
    "import numpy as np"
   ]
  },
  {
   "cell_type": "code",
   "execution_count": 2,
   "id": "ea463e8c",
   "metadata": {},
   "outputs": [],
   "source": [
    "### Cell 2\n",
    "# Defining our sequence\n",
    "def fib(x1, x2):\n",
    "    '''calculates the next term in our sequence given two ordered numbers (Fibonacci Mod 10)'''\n",
    "    return (x1+x2)%10"
   ]
  },
  {
   "cell_type": "code",
   "execution_count": 3,
   "id": "62acd95b",
   "metadata": {},
   "outputs": [],
   "source": [
    "### Cell 3\n",
    "# A function that determines whether the chain 'terminates' or not given a number of trials. It also gives\n",
    "# the length of the chain and the chain itself\n",
    "def chain_len(start1, start2, trials):\n",
    "    '''Parameters: start1 and start2 are the first and second initial numbers in the chain.\n",
    "    Trials is the number of iterations of the sequence we want.\n",
    "    \n",
    "    Returns: 'Terminated' if chain repeats 'Failed to Terminate' if it didn't repeat in the specified number of trials.\n",
    "    Returns: The length of the chain up to repetition\n",
    "    Returns: The chain itself in the form of a list\n",
    "    '''\n",
    "    chain = [start1, start2]\n",
    "    end = False\n",
    "    for i in range(0, trials):\n",
    "        chain.append(fib(chain[i], chain[i+1]))\n",
    "        if (chain[i+1]==start1) & (chain[i+2]==start2):\n",
    "            end=True\n",
    "            break\n",
    "            \n",
    "        else:\n",
    "            pass\n",
    "    if end == True:\n",
    "        Ans = 'Terminated'\n",
    "    else:\n",
    "        Ans = 'Failed to Terminate'\n",
    "    return Ans, len(chain)-2, chain[:-2]"
   ]
  },
  {
   "cell_type": "code",
   "execution_count": 4,
   "id": "626b9788",
   "metadata": {},
   "outputs": [
    {
     "name": "stdout",
     "output_type": "stream",
     "text": [
      "('Terminated', 60, [5, 2, 7, 9, 6, 5, 1, 6, 7, 3, 0, 3, 3, 6, 9, 5, 4, 9, 3, 2, 5, 7, 2, 9, 1, 0, 1, 1, 2, 3, 5, 8, 3, 1, 4, 5, 9, 4, 3, 7, 0, 7, 7, 4, 1, 5, 6, 1, 7, 8, 5, 3, 8, 1, 9, 0, 9, 9, 8, 7])\n"
     ]
    }
   ],
   "source": [
    "### Cell 4\n",
    "# Testing the function works as intended\n",
    "print(chain_len(5,2, 100))"
   ]
  },
  {
   "cell_type": "code",
   "execution_count": 5,
   "id": "88a4501b",
   "metadata": {},
   "outputs": [
    {
     "name": "stdout",
     "output_type": "stream",
     "text": [
      "The statement:'all chains terminate' is True\n"
     ]
    }
   ],
   "source": [
    "### Cell 5\n",
    "## Determining whether each chain terminates\n",
    "Term = True\n",
    "# Iterating through every possible starting pair\n",
    "for i in range(0, 10):\n",
    "    for j in range(0,10):\n",
    "        # checking if chain terminated\n",
    "        if chain_len(i,j,200)[1] == 'Failed to Terminate':\n",
    "            Term = False\n",
    "        else:\n",
    "            pass\n",
    "print(\"The statement:'all chains terminate' is\", Term)"
   ]
  },
  {
   "cell_type": "code",
   "execution_count": 6,
   "id": "27bbfc78",
   "metadata": {},
   "outputs": [
    {
     "name": "stdout",
     "output_type": "stream",
     "text": [
      "The number of entries in our array of lengths = 100\n",
      "The different lengths the chains can be are  [1, 3, 4, 12, 20, 60]\n",
      "The number of chains of each length is [ 1  3  4 12 20 60]\n"
     ]
    }
   ],
   "source": [
    "### Cell 6\n",
    "## Finding out how many chains there are of each length\n",
    "# Making an array of all the different lengths\n",
    "lengths = []\n",
    "for i in range(0,10):\n",
    "    for j in range(0,10):\n",
    "        lengths.append(chain_len(i, j, 200)[1])\n",
    "        \n",
    "lengths = np.array(lengths)\n",
    "\n",
    "# Finding the size of the array\n",
    "num = len(lengths)\n",
    "print(\"The number of entries in our array of lengths =\",num)\n",
    "\n",
    "# finding the different lengths we have\n",
    "distinct_len = []\n",
    "for i in range(0, num):\n",
    "    if lengths[i] not in distinct_len:\n",
    "        distinct_len.append(lengths[i])\n",
    "    else:\n",
    "        pass\n",
    "distinct_len.sort()\n",
    "print(\"The different lengths the chains can be are \",distinct_len)\n",
    "\n",
    "# finding the number of chains of each length\n",
    "my_bins = [1,1.5,3.5,4.5,12.5,20.5,60.5]\n",
    "hist, bin_edges = np.histogram(lengths, bins=my_bins)\n",
    "print(\"The number of chains of each length is\",hist)"
   ]
  },
  {
   "cell_type": "code",
   "execution_count": 7,
   "id": "d21c5d88",
   "metadata": {},
   "outputs": [
    {
     "name": "stdout",
     "output_type": "stream",
     "text": [
      "The statement 'The bracelets started by the pairs (0,1) and (3,5) are the same' is: True\n",
      "Starting pair of 4th entry in my store of bracelets of length 20 =  [0, 8]\n",
      "Starting pair of 15th entry in my store of bracelets of length 20 =  [6, 4]\n",
      "The statement 'The bracelets started by the pairs (0,8) and (6,4) are the same' is: True\n"
     ]
    }
   ],
   "source": [
    "### Cell 7\n",
    "### Now finding the number of different bracelets\n",
    "\n",
    "## Creating store of bracelets of same length\n",
    "l_60 = []\n",
    "l_20 = []\n",
    "l_12 = []\n",
    "l_4 = []\n",
    "l_3 = []\n",
    "l_1 = []\n",
    "for i in range(0,10):\n",
    "    for j in range(0,10):\n",
    "        if chain_len(i,j,100)[1] == 60:\n",
    "            l_60.append(chain_len(i,j,100)[2])\n",
    "        if chain_len(i,j,100)[1] == 20:\n",
    "            l_20.append(chain_len(i,j,100)[2])\n",
    "        if chain_len(i,j,100)[1] == 12:\n",
    "            l_12.append(chain_len(i,j,100)[2])\n",
    "        if chain_len(i,j,100)[1] == 4:\n",
    "            l_4.append(chain_len(i,j,100)[2])\n",
    "        if chain_len(i,j,100)[1] == 3:\n",
    "            l_3.append(chain_len(i,j,100)[2])\n",
    "        if chain_len(i,j,100)[1] == 1:\n",
    "            l_1.append(chain_len(i,j,100)[2])\n",
    "            \n",
    "## Bracelet comparing function\n",
    "def brac_compare(chain1, chain2, l):\n",
    "    '''Parameters: chain1 and chain2 are two chains that we want to compare when viewed as bracelets. They are arrays.\n",
    "    l is the length of the two chains.\n",
    "    \n",
    "        Returns: a boolean variable same. Returns True if the chains are the same when viewed as bracelets, False if not '''\n",
    "    same=False\n",
    "    #finding start point of chain1\n",
    "    start = chain1[0:2]\n",
    "    new_chain2 = []\n",
    "    for i in range(0,l-1):\n",
    "        #finding if the start point of chain1 occurs in chain2 and then adjusting chain2 to begin with that start point \n",
    "        if (chain2[i]==start[0]) & (chain2[i+1]==start[1]):\n",
    "            new_chain2 = chain2[i:]+chain2[:i]\n",
    "        if (chain2[l-1]==start[0]) & (chain2[0]==start[1]):\n",
    "            new_chain2 = chain2[l-1:]+chain2[:l-1]\n",
    "        else:\n",
    "            pass\n",
    "    #comparing bracelets\n",
    "    if chain1 == new_chain2:\n",
    "        same = True\n",
    "    else:\n",
    "        pass\n",
    "    return same\n",
    "        \n",
    "## Testing\n",
    "# test 1\n",
    "my_bool1 = brac_compare(chain_len(0,1,100)[2],chain_len(3,5,100)[2],60)\n",
    "print(\"The statement 'The bracelets started by the pairs (0,1) and (3,5) are the same' is:\", my_bool1)\n",
    "\n",
    "#test 2\n",
    "brac1 = l_20[3]\n",
    "brac2 = l_20[14]\n",
    "print('Starting pair of 4th entry in my store of bracelets of length 20 = ',brac1[:2])\n",
    "print('Starting pair of 15th entry in my store of bracelets of length 20 = ',brac2[:2])\n",
    "my_bool2 = brac_compare(chain_len(brac1[0],brac1[1],100)[2],chain_len(brac2[0],brac2[1],100)[2],20)\n",
    "print(\"The statement 'The bracelets started by the pairs (0,8) and (6,4) are the same' is:\", my_bool2)"
   ]
  },
  {
   "cell_type": "code",
   "execution_count": 8,
   "id": "98c9340f",
   "metadata": {},
   "outputs": [
    {
     "name": "stdout",
     "output_type": "stream",
     "text": [
      "The statement 'All bracelets of length 60 are the same' is: True\n",
      "The statement 'All bracelets of length 20 are the same' is: True\n",
      "The statement 'All bracelets of length 12 are the same' is: True\n",
      "The statement 'All bracelets of length 4 are the same' is: True\n",
      "The statement 'All bracelets of length 3 are the same' is: True\n",
      "The statement 'All bracelets of length 1 are the same' is: True\n"
     ]
    }
   ],
   "source": [
    "### Cell 8\n",
    "## Comparing Bracelets of same length\n",
    "    \n",
    "def brac_classify(lst):\n",
    "    '''Accepts a list of chains lst and checks whether all the chains in the list are the same as bracelets.\n",
    "    If it returns true then all the bracelets are the same. If it returns false all the bracelets are not the same.'''\n",
    "    # fixing a bracelet\n",
    "    my_chain = lst[0]\n",
    "    indicator = True\n",
    "    # comparing against all bracelets of that length\n",
    "    for chain in lst[1:]:\n",
    "        if brac_compare(my_chain, chain, len(lst))==True:\n",
    "            pass\n",
    "        else:\n",
    "            indicator = False\n",
    "    \n",
    "    return indicator\n",
    "\n",
    "#Testing each class of chain\n",
    "print(\"The statement 'All bracelets of length 60 are the same' is:\",brac_classify(l_60))\n",
    "print(\"The statement 'All bracelets of length 20 are the same' is:\",brac_classify(l_20))\n",
    "print(\"The statement 'All bracelets of length 12 are the same' is:\",brac_classify(l_12))\n",
    "print(\"The statement 'All bracelets of length 4 are the same' is:\",brac_classify(l_4))\n",
    "print(\"The statement 'All bracelets of length 3 are the same' is:\",brac_classify(l_3))\n",
    "print(\"The statement 'All bracelets of length 1 are the same' is:\",brac_classify(l_1))"
   ]
  },
  {
   "cell_type": "code",
   "execution_count": null,
   "id": "6c831945",
   "metadata": {},
   "outputs": [],
   "source": []
  }
 ],
 "metadata": {
  "kernelspec": {
   "display_name": "Python 3 (ipykernel)",
   "language": "python",
   "name": "python3"
  },
  "language_info": {
   "codemirror_mode": {
    "name": "ipython",
    "version": 3
   },
   "file_extension": ".py",
   "mimetype": "text/x-python",
   "name": "python",
   "nbconvert_exporter": "python",
   "pygments_lexer": "ipython3",
   "version": "3.9.7"
  }
 },
 "nbformat": 4,
 "nbformat_minor": 5
}
